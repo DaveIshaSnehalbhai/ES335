{
  "cells": [
    {
      "cell_type": "markdown",
      "metadata": {
        "id": "kEgWghYF5um6"
      },
      "source": [
        "\n",
        "1. How many  multiplications and additions do you need to perform a matrix multiplication between a (n, k) and (k, m) matrix? Explain.\n",
        "\n",
        "  Answer:\n",
        "  Multiplication of m1 = [[a,b,c],[d,e,f],[g,h,i]] and m2 = [[j,k,l],[m,n,o],[p,q,r]]\n",
        "\n",
        "  ans = m1 * m2\n",
        "\n",
        "  ans[0][0] = a*j + b*k + c*l\n",
        "\n",
        "  ans[0][1] = a*m + b*n + c*o\n",
        "\n",
        "  ans[0][2] = a*p + b*q + c*r\n",
        "\n",
        "  Thus for calculating values of 1 row of 2 3 \\* 3 matrixes requires 9 multiplications and 6 additions\n",
        "  Thus total = 27 multplications and 18 additions\n",
        "\n",
        "  Multiplications: n * m * k\n",
        "  Additions : n * m * (k-1)\n"
      ]
    },
    {
      "cell_type": "markdown",
      "metadata": {
        "id": "fi9hCkPk5v1p"
      },
      "source": [
        "2. Write Python code to multiply the above two matrices. Solve using list of lists and then use numpy. Compare the timing of both solutions. Which one is faster? Why?"
      ]
    },
    {
      "cell_type": "code",
      "execution_count": 3,
      "metadata": {
        "id": "hq5BZ26uV2Pz"
      },
      "outputs": [],
      "source": [
        "def mul(m1,m2):\n",
        "  if len(m1[0]) != len(m2):\n",
        "        print(\"Number of columns in the first matrix must equal the number of rows in the second matrix.\")\n",
        "\n",
        "  result = [[0 for _ in range(len(m2[0]))] for _ in range(len(m1))]\n",
        "\n",
        "  for i in range(len(m1)):\n",
        "      for j in range(len(m2[0])):\n",
        "          for k in range(len(m2)):\n",
        "              result[i][j] += m1[i][k] * m2[k][j]\n",
        "  return result"
      ]
    },
    {
      "cell_type": "code",
      "execution_count": 6,
      "metadata": {
        "colab": {
          "base_uri": "https://localhost:8080/"
        },
        "id": "845707a6",
        "outputId": "51a95ada-08a3-402a-d5f8-898fd1074539"
      },
      "outputs": [
        {
          "name": "stdout",
          "output_type": "stream",
          "text": [
            "\n",
            "Result using List:\n",
            "[[58, 64], [139, 154]]\n",
            "Time taken (List): 0.000061 seconds\n",
            "\n",
            "Result using NumPy:\n",
            "[[ 58  64]\n",
            " [139 154]]\n",
            "Time taken (NumPy): 0.000084 seconds\n",
            "\n",
            "NumPy is faster than list of lists by: -0.000023 seconds \n",
            " Because Operations on lists involves:\n",
            "\n",
            "Type checking , Pointer dereferencing , Dynamic memory management while NumPy avoids much of this overhead by knowing the array structure in advance.\n"
          ]
        }
      ],
      "source": [
        "import numpy as np\n",
        "import time\n",
        "\n",
        "matrix1 = [[1, 2, 3], [4, 5, 6]]\n",
        "matrix2 = [[7, 8], [9, 10], [11, 12]]\n",
        "\n",
        "start_time = time.time()\n",
        "result_lt = mul(matrix1, matrix2)\n",
        "end_time = time.time()\n",
        "list_time = end_time - start_time\n",
        "\n",
        "print(\"\\nResult using List:\")\n",
        "print(result_lt)\n",
        "print(f\"Time taken (List): {list_time:.6f} seconds\")\n",
        "\n",
        "matrix1_np = np.array([[1, 2, 3], [4, 5, 6]])\n",
        "matrix2_np = np.array([[7, 8], [9, 10], [11, 12]])\n",
        "\n",
        "start_time = time.time()\n",
        "result_np = np.dot(matrix1_np, matrix2_np)\n",
        "end_time = time.time()\n",
        "numpy_time = end_time - start_time\n",
        "\n",
        "print(\"\\nResult using NumPy:\")\n",
        "print(result_np)\n",
        "print(f\"Time taken (NumPy): {numpy_time:.6f} seconds\")\n",
        "\n",
        "print(f\"\\nNumPy is faster than list of lists by: {list_time - numpy_time:.6f} seconds \\n Because Operations on lists involves:\")\n",
        "print(f\"\\nType checking , Pointer dereferencing , Dynamic memory management while NumPy avoids much of this overhead by knowing the array structure in advance.\")"
      ]
    },
    {
      "cell_type": "markdown",
      "metadata": {
        "id": "0L4kYudS5wRN"
      },
      "source": [
        "3. Finding the highest element in a list requires one pass of the array. Finding the second highest element requires 2 passes of the array. Using this method, what is the time complexity of finding the median of the array? Can you suggest a better method? Can you implement both these methods in Python and compare against numpy.median routine in terms of time?\n"
      ]
    },
    {
      "cell_type": "code",
      "execution_count": 19,
      "metadata": {
        "colab": {
          "base_uri": "https://localhost:8080/"
        },
        "id": "3RjwgAXVf7m4",
        "outputId": "10f85037-fc1a-4bf2-99f9-96d5ee4ef25d"
      },
      "outputs": [
        {
          "name": "stdout",
          "output_type": "stream",
          "text": [
            "9\n"
          ]
        }
      ],
      "source": [
        "# Finding Highest element in list\n",
        "ls = [2,1,4,6,8,2,9,3]\n",
        "max = ls[0]\n",
        "for i in range(len(ls)):\n",
        "  if max < ls[i]:\n",
        "    max = ls[i]\n",
        "print(max)"
      ]
    },
    {
      "cell_type": "code",
      "execution_count": 20,
      "metadata": {
        "colab": {
          "base_uri": "https://localhost:8080/"
        },
        "id": "sF5g-zpigMb2",
        "outputId": "59a52a7b-9064-4ad6-cfe2-9e85ea981f28"
      },
      "outputs": [
        {
          "name": "stdout",
          "output_type": "stream",
          "text": [
            "8\n"
          ]
        }
      ],
      "source": [
        "# Finding second highest element\n",
        "for i in range(len(ls)):\n",
        "  if max == ls[i]:\n",
        "    ls[i] = 0\n",
        "max = ls[0]\n",
        "for i in range(len(ls)):\n",
        "  if max < ls[i]:\n",
        "    max = ls[i]\n",
        "print(max)"
      ]
    },
    {
      "cell_type": "code",
      "execution_count": 42,
      "metadata": {
        "colab": {
          "base_uri": "https://localhost:8080/"
        },
        "id": "5OZesERKgycm",
        "outputId": "1d8d43d7-0c6a-4588-db56-1d7ad6cffd41"
      },
      "outputs": [
        {
          "name": "stdout",
          "output_type": "stream",
          "text": [
            "Value of K is : 4.0\n",
            "3\n",
            "[2, 1, 0, 0, 0, 2, 0, 3]\n",
            "Time taken : 0.0005469322204589844\n"
          ]
        }
      ],
      "source": [
        "# Finding median using K passes\n",
        "import time\n",
        "\n",
        "start = time.time()\n",
        "ls = [2,1,4,6,8,2,9,3]\n",
        "k = len(ls)/2\n",
        "print(\"Value of K is :\",k)\n",
        "\n",
        "max = ls[0]\n",
        "for i in range(len(ls)):\n",
        "  if max < ls[i]:\n",
        "    max = ls[i]\n",
        "\n",
        "while k>0:\n",
        "  for i in range(len(ls)):\n",
        "    if ls[i] == max:\n",
        "      ls[i] = 0\n",
        "  max = ls[0]\n",
        "  for i in range(len(ls)):\n",
        "    if max < ls[i]:\n",
        "      max = ls[i]\n",
        "  k-=1\n",
        "\n",
        "max = ls[0]\n",
        "for i in range(len(ls)):\n",
        "  if max < ls[i]:\n",
        "    max = ls[i]\n",
        "print(max)\n",
        "print(ls)\n",
        "end = time.time()\n",
        "kpass_time = end-start\n",
        "print(f\"Time taken : {end-start}\")\n",
        "\n",
        "\n"
      ]
    },
    {
      "cell_type": "code",
      "execution_count": 43,
      "metadata": {
        "colab": {
          "base_uri": "https://localhost:8080/"
        },
        "id": "_DNI0UjXiI66",
        "outputId": "6e4cc5b2-63fb-4b23-cc25-ce6ff9f2edf0"
      },
      "outputs": [
        {
          "name": "stdout",
          "output_type": "stream",
          "text": [
            "[1, 2, 2, 3, 4, 6, 8, 9]\n",
            "4\n",
            "Time taken : 0.0005795955657958984\n"
          ]
        }
      ],
      "source": [
        "# Better approack\n",
        "start = time.time()\n",
        "ls = [2,1,4,6,8,2,9,3]\n",
        "ls.sort()\n",
        "print(ls)\n",
        "\n",
        "size = len(ls)\n",
        "if size%2 == 0:\n",
        "  median = ls[size//2]\n",
        "  print(median)\n",
        "else:\n",
        "  median = (ls[size//2] + ls[size//2 - 1])/2\n",
        "  print(median)\n",
        "end = time.time()\n",
        "my_time = end-start\n",
        "print(f\"Time taken : {end-start}\")"
      ]
    },
    {
      "cell_type": "code",
      "execution_count": 44,
      "metadata": {
        "colab": {
          "base_uri": "https://localhost:8080/"
        },
        "id": "gVLls6a_kXGr",
        "outputId": "f459d901-136f-4583-d025-a0ef17a16fdf"
      },
      "outputs": [
        {
          "name": "stdout",
          "output_type": "stream",
          "text": [
            "Time taken : 0.0040130615234375\n"
          ]
        }
      ],
      "source": [
        "start = time.time()\n",
        "arr = np.array([2,1,4,6,8,2,9,3])\n",
        "np.median(arr)\n",
        "end = time.time()\n",
        "numpy_time = end-start\n",
        "print(f\"Time taken : {end-start}\")"
      ]
    },
    {
      "cell_type": "markdown",
      "metadata": {
        "id": "6lMjeE1Dkmdb"
      },
      "source": [
        "**Thus np.median performs well. My approach takes more time to sort the list and in k pass approach we iterate the list unnecessary.**\n"
      ]
    },
    {
      "cell_type": "markdown",
      "metadata": {
        "id": "yFmRyb0r6NEM"
      },
      "source": [
        "4. What is the gradient of the following function with respect to x and y?\n",
        "\n",
        "  Gradient of f(x,y) = (partial derivative w.r.t x, partial derivative w.r.t y)\n",
        "\n",
        "  partial derivative w.r.t x = 2xy + y^3cos(x)\n",
        "\n",
        "  partial derivative w.r.t y = x^2 + 3y^2sin(x)\n",
        "\n",
        "  Gradient of f(x,y) = (2xy + y^3cos(x), x^2 + 3y^2sin(x))"
      ]
    },
    {
      "cell_type": "markdown",
      "metadata": {
        "id": "-EWxwMMO6RIu"
      },
      "source": [
        "5. Use JAX to confirm the gradient evaluated by your method matches the analytical solution corresponding to a few random values of x and y"
      ]
    },
    {
      "cell_type": "code",
      "execution_count": 46,
      "metadata": {
        "colab": {
          "base_uri": "https://localhost:8080/"
        },
        "id": "vgWohB11oBB1",
        "outputId": "57726eb4-41b4-437c-92f2-b07553ec86f7"
      },
      "outputs": [
        {
          "name": "stdout",
          "output_type": "stream",
          "text": [
            "Comparing gradients at random points:\n",
            "\n",
            "(x, y) = (1.000, 1.500)\n",
            "JAX grad     = (Array(4.82352, dtype=float32, weak_type=True), Array(6.679929, dtype=float32, weak_type=True))\n",
            "Manual grad  = [4.82352  6.679929]\n"
          ]
        }
      ],
      "source": [
        "import jax\n",
        "import jax.numpy as jnp\n",
        "\n",
        "def f(xy):\n",
        "    x, y = xy\n",
        "    return x**2 * y + y**3 * jnp.sin(x)\n",
        "\n",
        "grad_f = jax.grad(f)\n",
        "\n",
        "def analytical_grad(xy):\n",
        "    x, y = xy\n",
        "    df_dx = 2 * x * y + y**3 * jnp.cos(x)\n",
        "    df_dy = x**2 + 3 * y**2 * jnp.sin(x)\n",
        "    return jnp.array([df_dx, df_dy])\n",
        "\n",
        "x = 1.0\n",
        "y = 1.5\n",
        "print(\"Comparing gradients at random points:\\n\")\n",
        "auto_grad = grad_f((x, y))\n",
        "manual_grad = analytical_grad((x, y))\n",
        "print(f\"(x, y) = ({x:.3f}, {y:.3f})\")\n",
        "print(f\"JAX grad     = {auto_grad}\")\n",
        "print(f\"Manual grad  = {manual_grad}\")"
      ]
    },
    {
      "cell_type": "markdown",
      "metadata": {
        "id": "9j0ZpDuc6RYC"
      },
      "source": [
        "6. Use sympy to confirm that you obtain the same gradient analytically."
      ]
    },
    {
      "cell_type": "code",
      "execution_count": 47,
      "metadata": {
        "colab": {
          "base_uri": "https://localhost:8080/"
        },
        "id": "iIh8DmUUo6Ks",
        "outputId": "86a7177b-4614-4ac0-f9c1-ce148eaa767b"
      },
      "outputs": [
        {
          "name": "stdout",
          "output_type": "stream",
          "text": [
            "Symbolic Gradient:\n",
            "∂f/∂x = 2*x*y + y**3*cos(x)\n",
            "∂f/∂y = x**2 + 3*y**2*sin(x)\n"
          ]
        }
      ],
      "source": [
        "import sympy as sp\n",
        "\n",
        "x, y = sp.symbols('x y')\n",
        "\n",
        "f = x**2 * y + y**3 * sp.sin(x)\n",
        "\n",
        "df_dx = sp.diff(f, x)\n",
        "df_dy = sp.diff(f, y)\n",
        "\n",
        "gradient = [df_dx, df_dy]\n",
        "\n",
        "print(\"Symbolic Gradient:\")\n",
        "print(\"∂f/∂x =\", df_dx)\n",
        "print(\"∂f/∂y =\", df_dy)"
      ]
    },
    {
      "cell_type": "markdown",
      "metadata": {
        "id": "yiV638I86Rwk"
      },
      "source": [
        "7. Create a Python nested dictionary to represent hierarchical information. We want to store record of students and their marks"
      ]
    },
    {
      "cell_type": "code",
      "execution_count": 16,
      "metadata": {
        "colab": {
          "base_uri": "https://localhost:8080/"
        },
        "id": "LYxRezdNbmV4",
        "outputId": "57c148ac-dedb-4037-f401-1b4cde0a0137"
      },
      "outputs": [
        {
          "name": "stdout",
          "output_type": "stream",
          "text": [
            "{2022: {'Branch 1': {'Roll No': 1, 'Name': 'N', 'Marks': {'Maths': 100, 'English': 70}}, 'Branch 2': {'Roll No': 2, 'Name': 'M', 'Marks': {'Maths': 80, 'English': 60}}}, 2023: {'Branch 1': {'Roll No': 3, 'Name': 'I', 'Marks': {'Maths': 100, 'English': 50}}, 'Branch 2': {'Roll No': 4, 'Name': 'D', 'Marks': {'Maths': 70, 'English': 60}}}}\n"
          ]
        }
      ],
      "source": [
        "dict = { 2022: { 'Branch 1' : { 'Roll No' : 1, 'Name' : 'N' , 'Marks' : { 'Maths' : 100, 'English' : 70}\n",
        "\n",
        "} ,\n",
        "                 'Branch 2' : { 'Roll No' : 2, 'Name' : 'M' , 'Marks' : { 'Maths' : 80, 'English' : 60}\n",
        "\n",
        "                 }\n",
        "\n",
        "},\n",
        "\n",
        "         2023: { 'Branch 1' : { 'Roll No' : 3, 'Name' : 'I' , 'Marks' : { 'Maths' : 100, 'English' : 50}\n",
        "\n",
        "} ,\n",
        "                 'Branch 2' : { 'Roll No' : 4, 'Name' : 'D' , 'Marks' : { 'Maths' : 70, 'English' : 60}\n",
        "\n",
        "                 }\n",
        "\n",
        "         }\n",
        "}\n",
        "\n",
        "print(dict)"
      ]
    },
    {
      "cell_type": "markdown",
      "metadata": {
        "id": "50UwP8HZ7Hp6"
      },
      "source": [
        "8. Store the same information using Python classes. We have an overall database which is a list of year objects. Each year contains a list of branches. Each branch contains a list of students. Each student has some properties like name, roll number and has marks in some subjects.\n",
        "\n"
      ]
    },
    {
      "cell_type": "code",
      "execution_count": 18,
      "metadata": {
        "id": "guTFEY77fYGO"
      },
      "outputs": [],
      "source": [
        "class Student:\n",
        "    def __init__(self, roll_no, name, marks):\n",
        "        self.roll_no = roll_no\n",
        "        self.name = name\n",
        "        self.marks = marks\n",
        "\n",
        "class Branch:\n",
        "    def __init__(self, branch_name, students):\n",
        "        self.branch_name = branch_name\n",
        "        self.students = students\n",
        "\n",
        "class Year:\n",
        "    def __init__(self, year, branches):\n",
        "        self.year = year\n",
        "        self.branches = branches\n",
        "\n",
        "student1 = Student(1, 'N', {'Maths': 100, 'English': 70})\n",
        "student2 = Student(2, 'M', {'Maths': 80, 'English': 60})\n",
        "\n",
        "branch1 = Branch('Branch 1', [student1, student2])\n",
        "branch2 = Branch('Branch 2', [student1, student2])\n",
        "\n",
        "year = Year(2022, [branch1, branch2])\n"
      ]
    },
    {
      "cell_type": "markdown",
      "metadata": {
        "id": "EdCvqNn57JH4"
      },
      "source": [
        "9. Using matplotlib plot the following functions on the domain: x = 0.5 to 100.0 in steps of 0.5."
      ]
    },
    {
      "cell_type": "code",
      "execution_count": 8,
      "metadata": {
        "colab": {
          "base_uri": "https://localhost:8080/",
          "height": 449
        },
        "id": "0PijAerl8zmg",
        "outputId": "7cda45b8-75cc-4248-d6e7-199a31461d55"
      },
      "outputs": [
        {
          "data": {
            "image/png": "[encoded data removed]",
            "text/plain": [
              "<Figure size 640x480 with 1 Axes>"
            ]
          },
          "metadata": {},
          "output_type": "display_data"
        }
      ],
      "source": [
        "import matplotlib.pyplot as plt\n",
        "import numpy as np\n",
        "x = np.arange(0.5, 100.0, 0.5)\n",
        "plt.plot(x, x, label='y = x')\n",
        "plt.legend()\n",
        "plt.xlabel('x')\n",
        "plt.ylabel('y')\n",
        "plt.show()"
      ]
    },
    {
      "cell_type": "code",
      "execution_count": 9,
      "metadata": {
        "colab": {
          "base_uri": "https://localhost:8080/",
          "height": 449
        },
        "id": "JNcNVcjtaYlJ",
        "outputId": "2cccee2a-0e65-4098-ba8f-39599de14c47"
      },
      "outputs": [
        {
          "data": {
            "image/png": "[encoded data removed]",
            "text/plain": [
              "<Figure size 640x480 with 1 Axes>"
            ]
          },
          "metadata": {},
          "output_type": "display_data"
        }
      ],
      "source": [
        "plt.plot(x, x**2, label='y = x**2')\n",
        "plt.legend()\n",
        "plt.xlabel('x')\n",
        "plt.ylabel('y')\n",
        "plt.show()"
      ]
    },
    {
      "cell_type": "code",
      "execution_count": 11,
      "metadata": {
        "colab": {
          "base_uri": "https://localhost:8080/",
          "height": 449
        },
        "id": "UoknN8Rea2sG",
        "outputId": "c1dc1801-c8f7-482b-ea6e-f7b4b6f04f99"
      },
      "outputs": [
        {
          "data": {
            "image/png": "[encoded data removed]",
            "text/plain": [
              "<Figure size 640x480 with 1 Axes>"
            ]
          },
          "metadata": {},
          "output_type": "display_data"
        }
      ],
      "source": [
        "y = (x**3)/100\n",
        "plt.plot(x, y , label='y = (x**3)/100')\n",
        "plt.legend()\n",
        "plt.xlabel('x')\n",
        "plt.ylabel('y')\n",
        "plt.show()"
      ]
    },
    {
      "cell_type": "code",
      "execution_count": 12,
      "metadata": {
        "colab": {
          "base_uri": "https://localhost:8080/",
          "height": 449
        },
        "id": "lEFMoJdxa35y",
        "outputId": "c929ad9c-0f54-4b55-ccdc-17a689f8e80e"
      },
      "outputs": [
        {
          "data": {
            "image/png": "[encoded data removed]",
            "text/plain": [
              "<Figure size 640x480 with 1 Axes>"
            ]
          },
          "metadata": {},
          "output_type": "display_data"
        }
      ],
      "source": [
        "plt.plot(x, np.sin(x), label='y = sin(x)')\n",
        "plt.legend()\n",
        "plt.xlabel('x')\n",
        "plt.ylabel('y')\n",
        "plt.show()"
      ]
    },
    {
      "cell_type": "code",
      "execution_count": 13,
      "metadata": {
        "colab": {
          "base_uri": "https://localhost:8080/",
          "height": 450
        },
        "id": "mt9iotWVa39O",
        "outputId": "ae550a84-eb27-4b66-edfd-c233cabb7e04"
      },
      "outputs": [
        {
          "data": {
            "image/png": "[encoded data removed]",
            "text/plain": [
              "<Figure size 640x480 with 1 Axes>"
            ]
          },
          "metadata": {},
          "output_type": "display_data"
        }
      ],
      "source": [
        "z = (np.sin(x))/x\n",
        "plt.plot(x, z , label='y = sin(x)/x')\n",
        "plt.legend()\n",
        "plt.xlabel('x')\n",
        "plt.ylabel('y')\n",
        "plt.show()"
      ]
    },
    {
      "cell_type": "code",
      "execution_count": 14,
      "metadata": {
        "colab": {
          "base_uri": "https://localhost:8080/",
          "height": 449
        },
        "id": "ZuGxqd_Za4D6",
        "outputId": "8fef47ac-310f-44ec-c1e2-5e9790ca603a"
      },
      "outputs": [
        {
          "data": {
            "image/png": "[encoded data removed]",
            "text/plain": [
              "<Figure size 640x480 with 1 Axes>"
            ]
          },
          "metadata": {},
          "output_type": "display_data"
        }
      ],
      "source": [
        "plt.plot(x, np.log(x), label='y = log(x)')\n",
        "plt.legend()\n",
        "plt.xlabel('x')\n",
        "plt.ylabel('y')\n",
        "plt.show()"
      ]
    },
    {
      "cell_type": "code",
      "execution_count": 15,
      "metadata": {
        "colab": {
          "base_uri": "https://localhost:8080/",
          "height": 465
        },
        "id": "CcFCAzgna4L7",
        "outputId": "82340827-8867-4555-a8dc-fab083e66fc9"
      },
      "outputs": [
        {
          "data": {
            "image/png": "[encoded data removed]",
            "text/plain": [
              "<Figure size 640x480 with 1 Axes>"
            ]
          },
          "metadata": {},
          "output_type": "display_data"
        }
      ],
      "source": [
        "plt.plot(x, np.exp(x), label='y = exp(x)')\n",
        "plt.legend()\n",
        "plt.xlabel('x')\n",
        "plt.ylabel('y')\n",
        "plt.show()"
      ]
    },
    {
      "cell_type": "markdown",
      "metadata": {
        "id": "QnKdQJLj2pX2"
      },
      "source": [
        "10. Using numpy generate a matrix of size 20X5 containing random numbers drawn uniformly from the range of 1 to 2. Using Pandas create a dataframe out of this matrix. Name the columns of the dataframe as “a”, “b”, “c”, “d”, “e”. Find the column with the highest standard deviation. Find the row with the lowest mean."
      ]
    },
    {
      "cell_type": "code",
      "execution_count": 1,
      "metadata": {
        "colab": {
          "base_uri": "https://localhost:8080/"
        },
        "id": "KYLKB9hd2kru",
        "outputId": "ff87ecc8-442c-4028-f548-9317cf6ded79"
      },
      "outputs": [
        {
          "name": "stdout",
          "output_type": "stream",
          "text": [
            "[[2.67411272 2.41336126 1.80983899 1.97433119 1.36096833]\n",
            " [2.3385623  1.45118156 1.00917367 1.91438376 1.42433378]\n",
            " [1.56503495 2.66095732 2.59252682 2.48590215 1.27190841]\n",
            " [2.60305017 1.38877921 2.8591326  2.6602093  1.90821456]\n",
            " [1.45673935 1.08592313 2.52498866 2.25431733 1.49996959]\n",
            " [2.90996992 2.76732359 1.44515964 2.60145413 2.59731669]\n",
            " [1.82222369 2.69555827 1.61463576 2.14784606 1.93086845]\n",
            " [2.52082892 1.51246074 2.48618618 1.65086128 2.05234822]\n",
            " [2.38174421 1.83084842 2.97159154 1.40728865 1.74127167]\n",
            " [1.43198223 2.52432405 1.27128892 1.3891481  1.0860725 ]\n",
            " [1.65446697 1.40036054 2.50205779 2.32534825 1.68797846]\n",
            " [1.23872004 1.73389414 1.93483184 1.78808807 2.5926644 ]\n",
            " [1.78209154 2.76699027 2.696298   1.97393212 2.661972  ]\n",
            " [2.48485623 2.78259329 1.65565701 1.62496208 2.80608243]\n",
            " [1.01089216 1.98503886 1.4670724  1.5662187  2.25502299]\n",
            " [2.54236756 1.52678909 2.10580454 1.00097073 2.90400804]\n",
            " [1.569332   1.78203377 1.58506021 1.50716948 2.78940605]\n",
            " [1.89137659 2.96875756 1.05283709 2.56511705 2.52104183]\n",
            " [2.66593157 2.14105095 1.74342087 2.0807627  1.47229424]\n",
            " [2.40492627 2.10652801 1.18667063 2.86014912 1.23501083]]\n"
          ]
        }
      ],
      "source": [
        "import numpy as np\n",
        "matrix = np.random.uniform(1, 3, size=(20, 5))\n",
        "print(matrix)\n"
      ]
    },
    {
      "cell_type": "code",
      "execution_count": 2,
      "metadata": {
        "colab": {
          "base_uri": "https://localhost:8080/"
        },
        "id": "a7000a28",
        "outputId": "1b5b35dd-bd3a-42c9-cb09-4d2f131bf9a6"
      },
      "outputs": [
        {
          "name": "stdout",
          "output_type": "stream",
          "text": [
            "Column with the highest standard deviation: c\n",
            "Row with the lowest mean (index): 9\n"
          ]
        }
      ],
      "source": [
        "import pandas as pd\n",
        "\n",
        "df = pd.DataFrame(matrix, columns=['a', 'b', 'c', 'd', 'e'])\n",
        "\n",
        "std_dev = df.std()\n",
        "highest_std_col = std_dev.idxmax()\n",
        "print(f\"Column with the highest standard deviation: {highest_std_col}\")\n",
        "\n",
        "row_means = df.mean(axis=1)\n",
        "lowest_mean_row = row_means.idxmin()\n",
        "print(f\"Row with the lowest mean (index): {lowest_mean_row}\")"
      ]
    },
    {
      "cell_type": "markdown",
      "metadata": {
        "id": "sFoHL2EC4tu9"
      },
      "source": [
        "11. Add a new column to the dataframe called “f” which is the sum of the columns “a”, “b”, “c”, “d”, “e”. Create another column called “g”. The value in the column “g” should be “LT8” if the value in the column “f” is less than 8 and “GT8” otherwise. Find the number of rows in the dataframe where the value in the column “g” is “LT8”. Find the standard deviation of the column “f” for the rows where the value in the column “g” is “LT8” and “GT8” respectively.\n",
        "\n"
      ]
    },
    {
      "cell_type": "code",
      "execution_count": 3,
      "metadata": {
        "colab": {
          "base_uri": "https://localhost:8080/",
          "height": 676
        },
        "id": "UgNwANlw4ng7",
        "outputId": "1205bf68-9a57-41a8-e46f-6ffcaf43cc97"
      },
      "outputs": [
        {
          "data": {
            "application/vnd.google.colaboratory.intrinsic+json": {
              "summary": "{\n  \"name\": \"df\",\n  \"rows\": 20,\n  \"fields\": [\n    {\n      \"column\": \"a\",\n      \"properties\": {\n        \"dtype\": \"number\",\n        \"std\": 0.5633543750201542,\n        \"min\": 1.0108921600323295,\n        \"max\": 2.9099699236029313,\n        \"num_unique_values\": 20,\n        \"samples\": [\n          2.674112718299209,\n          1.8913765875164215,\n          2.5423675594199375\n        ],\n        \"semantic_type\": \"\",\n        \"description\": \"\"\n      }\n    },\n    {\n      \"column\": \"b\",\n      \"properties\": {\n        \"dtype\": \"number\",\n        \"std\": 0.5843633225534407,\n        \"min\": 1.0859231320530838,\n        \"max\": 2.9687575634705228,\n        \"num_unique_values\": 20,\n        \"samples\": [\n          2.413361264682573,\n          2.9687575634705228,\n          1.5267890852674952\n        ],\n        \"semantic_type\": \"\",\n        \"description\": \"\"\n      }\n    },\n    {\n      \"column\": \"c\",\n      \"properties\": {\n        \"dtype\": \"number\",\n        \"std\": 0.6237248750659351,\n        \"min\": 1.0091736652600316,\n        \"max\": 2.9715915365621868,\n        \"num_unique_values\": 20,\n        \"samples\": [\n          1.809838987000661,\n          1.0528370906934454,\n          2.1058045366106293\n        ],\n        \"semantic_type\": \"\",\n        \"description\": \"\"\n      }\n    },\n    {\n      \"column\": \"d\",\n      \"properties\": {\n        \"dtype\": \"number\",\n        \"std\": 0.5004773971352099,\n        \"min\": 1.0009707256878204,\n        \"max\": 2.8601491216318933,\n        \"num_unique_values\": 20,\n        \"samples\": [\n          1.9743311877620777,\n          2.565117053358323,\n          1.0009707256878204\n        ],\n        \"semantic_type\": \"\",\n        \"description\": \"\"\n      }\n    },\n    {\n      \"column\": \"e\",\n      \"properties\": {\n        \"dtype\": \"number\",\n        \"std\": 0.6056745202373734,\n        \"min\": 1.0860725039970809,\n        \"max\": 2.9040080449901082,\n        \"num_unique_values\": 20,\n        \"samples\": [\n          1.3609683291158727,\n          2.5210418275562807,\n          2.9040080449901082\n        ],\n        \"semantic_type\": \"\",\n        \"description\": \"\"\n      }\n    },\n    {\n      \"column\": \"f\",\n      \"properties\": {\n        \"dtype\": \"number\",\n        \"std\": 1.2304408952455712,\n        \"min\": 7.702815812435914,\n        \"max\": 12.321223975208929,\n        \"num_unique_values\": 20,\n        \"samples\": [\n          10.232612486860393,\n          10.999130122594995,\n          10.079939951975991\n        ],\n        \"semantic_type\": \"\",\n        \"description\": \"\"\n      }\n    },\n    {\n      \"column\": \"g\",\n      \"properties\": {\n        \"dtype\": \"category\",\n        \"num_unique_values\": 2,\n        \"samples\": [\n          \"LT8\",\n          \"GT8\"\n        ],\n        \"semantic_type\": \"\",\n        \"description\": \"\"\n      }\n    }\n  ]\n}",
              "type": "dataframe",
              "variable_name": "df"
            },
            "text/html": [
              "\n",
              "  <div id=\"df-80985f52-28c2-4bc2-a586-323f946385c3\" class=\"colab-df-container\">\n",
              "    <div>\n",
              "<style scoped>\n",
              "    .dataframe tbody tr th:only-of-type {\n",
              "        vertical-align: middle;\n",
              "    }\n",
              "\n",
              "    .dataframe tbody tr th {\n",
              "        vertical-align: top;\n",
              "    }\n",
              "\n",
              "    .dataframe thead th {\n",
              "        text-align: right;\n",
              "    }\n",
              "</style>\n",
              "<table border=\"1\" class=\"dataframe\">\n",
              "  <thead>\n",
              "    <tr style=\"text-align: right;\">\n",
              "      <th></th>\n",
              "      <th>a</th>\n",
              "      <th>b</th>\n",
              "      <th>c</th>\n",
              "      <th>d</th>\n",
              "      <th>e</th>\n",
              "      <th>f</th>\n",
              "      <th>g</th>\n",
              "    </tr>\n",
              "  </thead>\n",
              "  <tbody>\n",
              "    <tr>\n",
              "      <th>0</th>\n",
              "      <td>2.674113</td>\n",
              "      <td>2.413361</td>\n",
              "      <td>1.809839</td>\n",
              "      <td>1.974331</td>\n",
              "      <td>1.360968</td>\n",
              "      <td>10.232612</td>\n",
              "      <td>GT8</td>\n",
              "    </tr>\n",
              "    <tr>\n",
              "      <th>1</th>\n",
              "      <td>2.338562</td>\n",
              "      <td>1.451182</td>\n",
              "      <td>1.009174</td>\n",
              "      <td>1.914384</td>\n",
              "      <td>1.424334</td>\n",
              "      <td>8.137635</td>\n",
              "      <td>GT8</td>\n",
              "    </tr>\n",
              "    <tr>\n",
              "      <th>2</th>\n",
              "      <td>1.565035</td>\n",
              "      <td>2.660957</td>\n",
              "      <td>2.592527</td>\n",
              "      <td>2.485902</td>\n",
              "      <td>1.271908</td>\n",
              "      <td>10.576330</td>\n",
              "      <td>GT8</td>\n",
              "    </tr>\n",
              "    <tr>\n",
              "      <th>3</th>\n",
              "      <td>2.603050</td>\n",
              "      <td>1.388779</td>\n",
              "      <td>2.859133</td>\n",
              "      <td>2.660209</td>\n",
              "      <td>1.908215</td>\n",
              "      <td>11.419386</td>\n",
              "      <td>GT8</td>\n",
              "    </tr>\n",
              "    <tr>\n",
              "      <th>4</th>\n",
              "      <td>1.456739</td>\n",
              "      <td>1.085923</td>\n",
              "      <td>2.524989</td>\n",
              "      <td>2.254317</td>\n",
              "      <td>1.499970</td>\n",
              "      <td>8.821938</td>\n",
              "      <td>GT8</td>\n",
              "    </tr>\n",
              "    <tr>\n",
              "      <th>5</th>\n",
              "      <td>2.909970</td>\n",
              "      <td>2.767324</td>\n",
              "      <td>1.445160</td>\n",
              "      <td>2.601454</td>\n",
              "      <td>2.597317</td>\n",
              "      <td>12.321224</td>\n",
              "      <td>GT8</td>\n",
              "    </tr>\n",
              "    <tr>\n",
              "      <th>6</th>\n",
              "      <td>1.822224</td>\n",
              "      <td>2.695558</td>\n",
              "      <td>1.614636</td>\n",
              "      <td>2.147846</td>\n",
              "      <td>1.930868</td>\n",
              "      <td>10.211132</td>\n",
              "      <td>GT8</td>\n",
              "    </tr>\n",
              "    <tr>\n",
              "      <th>7</th>\n",
              "      <td>2.520829</td>\n",
              "      <td>1.512461</td>\n",
              "      <td>2.486186</td>\n",
              "      <td>1.650861</td>\n",
              "      <td>2.052348</td>\n",
              "      <td>10.222685</td>\n",
              "      <td>GT8</td>\n",
              "    </tr>\n",
              "    <tr>\n",
              "      <th>8</th>\n",
              "      <td>2.381744</td>\n",
              "      <td>1.830848</td>\n",
              "      <td>2.971592</td>\n",
              "      <td>1.407289</td>\n",
              "      <td>1.741272</td>\n",
              "      <td>10.332744</td>\n",
              "      <td>GT8</td>\n",
              "    </tr>\n",
              "    <tr>\n",
              "      <th>9</th>\n",
              "      <td>1.431982</td>\n",
              "      <td>2.524324</td>\n",
              "      <td>1.271289</td>\n",
              "      <td>1.389148</td>\n",
              "      <td>1.086073</td>\n",
              "      <td>7.702816</td>\n",
              "      <td>LT8</td>\n",
              "    </tr>\n",
              "    <tr>\n",
              "      <th>10</th>\n",
              "      <td>1.654467</td>\n",
              "      <td>1.400361</td>\n",
              "      <td>2.502058</td>\n",
              "      <td>2.325348</td>\n",
              "      <td>1.687978</td>\n",
              "      <td>9.570212</td>\n",
              "      <td>GT8</td>\n",
              "    </tr>\n",
              "    <tr>\n",
              "      <th>11</th>\n",
              "      <td>1.238720</td>\n",
              "      <td>1.733894</td>\n",
              "      <td>1.934832</td>\n",
              "      <td>1.788088</td>\n",
              "      <td>2.592664</td>\n",
              "      <td>9.288198</td>\n",
              "      <td>GT8</td>\n",
              "    </tr>\n",
              "    <tr>\n",
              "      <th>12</th>\n",
              "      <td>1.782092</td>\n",
              "      <td>2.766990</td>\n",
              "      <td>2.696298</td>\n",
              "      <td>1.973932</td>\n",
              "      <td>2.661972</td>\n",
              "      <td>11.881284</td>\n",
              "      <td>GT8</td>\n",
              "    </tr>\n",
              "    <tr>\n",
              "      <th>13</th>\n",
              "      <td>2.484856</td>\n",
              "      <td>2.782593</td>\n",
              "      <td>1.655657</td>\n",
              "      <td>1.624962</td>\n",
              "      <td>2.806082</td>\n",
              "      <td>11.354151</td>\n",
              "      <td>GT8</td>\n",
              "    </tr>\n",
              "    <tr>\n",
              "      <th>14</th>\n",
              "      <td>1.010892</td>\n",
              "      <td>1.985039</td>\n",
              "      <td>1.467072</td>\n",
              "      <td>1.566219</td>\n",
              "      <td>2.255023</td>\n",
              "      <td>8.284245</td>\n",
              "      <td>GT8</td>\n",
              "    </tr>\n",
              "    <tr>\n",
              "      <th>15</th>\n",
              "      <td>2.542368</td>\n",
              "      <td>1.526789</td>\n",
              "      <td>2.105805</td>\n",
              "      <td>1.000971</td>\n",
              "      <td>2.904008</td>\n",
              "      <td>10.079940</td>\n",
              "      <td>GT8</td>\n",
              "    </tr>\n",
              "    <tr>\n",
              "      <th>16</th>\n",
              "      <td>1.569332</td>\n",
              "      <td>1.782034</td>\n",
              "      <td>1.585060</td>\n",
              "      <td>1.507169</td>\n",
              "      <td>2.789406</td>\n",
              "      <td>9.233002</td>\n",
              "      <td>GT8</td>\n",
              "    </tr>\n",
              "    <tr>\n",
              "      <th>17</th>\n",
              "      <td>1.891377</td>\n",
              "      <td>2.968758</td>\n",
              "      <td>1.052837</td>\n",
              "      <td>2.565117</td>\n",
              "      <td>2.521042</td>\n",
              "      <td>10.999130</td>\n",
              "      <td>GT8</td>\n",
              "    </tr>\n",
              "    <tr>\n",
              "      <th>18</th>\n",
              "      <td>2.665932</td>\n",
              "      <td>2.141051</td>\n",
              "      <td>1.743421</td>\n",
              "      <td>2.080763</td>\n",
              "      <td>1.472294</td>\n",
              "      <td>10.103460</td>\n",
              "      <td>GT8</td>\n",
              "    </tr>\n",
              "    <tr>\n",
              "      <th>19</th>\n",
              "      <td>2.404926</td>\n",
              "      <td>2.106528</td>\n",
              "      <td>1.186671</td>\n",
              "      <td>2.860149</td>\n",
              "      <td>1.235011</td>\n",
              "      <td>9.793285</td>\n",
              "      <td>GT8</td>\n",
              "    </tr>\n",
              "  </tbody>\n",
              "</table>\n",
              "</div>\n",
              "    <div class=\"colab-df-buttons\">\n",
              "\n",
              "  <div class=\"colab-df-container\">\n",
              "    <button class=\"colab-df-convert\" onclick=\"convertToInteractive('df-80985f52-28c2-4bc2-a586-323f946385c3')\"\n",
              "            title=\"Convert this dataframe to an interactive table.\"\n",
              "            style=\"display:none;\">\n",
              "\n",
              "  <svg xmlns=\"http://www.w3.org/2000/svg\" height=\"24px\" viewBox=\"0 -960 960 960\">\n",
              "    <path d=\"M120-120v-720h720v720H120Zm60-500h600v-160H180v160Zm220 220h160v-160H400v160Zm0 220h160v-160H400v160ZM180-400h160v-160H180v160Zm440 0h160v-160H620v160ZM180-180h160v-160H180v160Zm440 0h160v-160H620v160Z\"/>\n",
              "  </svg>\n",
              "    </button>\n",
              "\n",
              "  <style>\n",
              "    .colab-df-container {\n",
              "      display:flex;\n",
              "      gap: 12px;\n",
              "    }\n",
              "\n",
              "    .colab-df-convert {\n",
              "      background-color: #E8F0FE;\n",
              "      border: none;\n",
              "      border-radius: 50%;\n",
              "      cursor: pointer;\n",
              "      display: none;\n",
              "      fill: #1967D2;\n",
              "      height: 32px;\n",
              "      padding: 0 0 0 0;\n",
              "      width: 32px;\n",
              "    }\n",
              "\n",
              "    .colab-df-convert:hover {\n",
              "      background-color: #E2EBFA;\n",
              "      box-shadow: 0px 1px 2px rgba(60, 64, 67, 0.3), 0px 1px 3px 1px rgba(60, 64, 67, 0.15);\n",
              "      fill: #174EA6;\n",
              "    }\n",
              "\n",
              "    .colab-df-buttons div {\n",
              "      margin-bottom: 4px;\n",
              "    }\n",
              "\n",
              "    [theme=dark] .colab-df-convert {\n",
              "      background-color: #3B4455;\n",
              "      fill: #D2E3FC;\n",
              "    }\n",
              "\n",
              "    [theme=dark] .colab-df-convert:hover {\n",
              "      background-color: #434B5C;\n",
              "      box-shadow: 0px 1px 3px 1px rgba(0, 0, 0, 0.15);\n",
              "      filter: drop-shadow(0px 1px 2px rgba(0, 0, 0, 0.3));\n",
              "      fill: #FFFFFF;\n",
              "    }\n",
              "  </style>\n",
              "\n",
              "    <script>\n",
              "      const buttonEl =\n",
              "        document.querySelector('#df-80985f52-28c2-4bc2-a586-323f946385c3 button.colab-df-convert');\n",
              "      buttonEl.style.display =\n",
              "        google.colab.kernel.accessAllowed ? 'block' : 'none';\n",
              "\n",
              "      async function convertToInteractive(key) {\n",
              "        const element = document.querySelector('#df-80985f52-28c2-4bc2-a586-323f946385c3');\n",
              "        const dataTable =\n",
              "          await google.colab.kernel.invokeFunction('convertToInteractive',\n",
              "                                                    [key], {});\n",
              "        if (!dataTable) return;\n",
              "\n",
              "        const docLinkHtml = 'Like what you see? Visit the ' +\n",
              "          '<a target=\"_blank\" href=https://colab.research.google.com/notebooks/data_table.ipynb>data table notebook</a>'\n",
              "          + ' to learn more about interactive tables.';\n",
              "        element.innerHTML = '';\n",
              "        dataTable['output_type'] = 'display_data';\n",
              "        await google.colab.output.renderOutput(dataTable, element);\n",
              "        const docLink = document.createElement('div');\n",
              "        docLink.innerHTML = docLinkHtml;\n",
              "        element.appendChild(docLink);\n",
              "      }\n",
              "    </script>\n",
              "  </div>\n",
              "\n",
              "\n",
              "    <div id=\"df-25b55755-a210-4bd5-9450-c960b4512983\">\n",
              "      <button class=\"colab-df-quickchart\" onclick=\"quickchart('df-25b55755-a210-4bd5-9450-c960b4512983')\"\n",
              "                title=\"Suggest charts\"\n",
              "                style=\"display:none;\">\n",
              "\n",
              "<svg xmlns=\"http://www.w3.org/2000/svg\" height=\"24px\"viewBox=\"0 0 24 24\"\n",
              "     width=\"24px\">\n",
              "    <g>\n",
              "        <path d=\"M19 3H5c-1.1 0-2 .9-2 2v14c0 1.1.9 2 2 2h14c1.1 0 2-.9 2-2V5c0-1.1-.9-2-2-2zM9 17H7v-7h2v7zm4 0h-2V7h2v10zm4 0h-2v-4h2v4z\"/>\n",
              "    </g>\n",
              "</svg>\n",
              "      </button>\n",
              "\n",
              "<style>\n",
              "  .colab-df-quickchart {\n",
              "      --bg-color: #E8F0FE;\n",
              "      --fill-color: #1967D2;\n",
              "      --hover-bg-color: #E2EBFA;\n",
              "      --hover-fill-color: #174EA6;\n",
              "      --disabled-fill-color: #AAA;\n",
              "      --disabled-bg-color: #DDD;\n",
              "  }\n",
              "\n",
              "  [theme=dark] .colab-df-quickchart {\n",
              "      --bg-color: #3B4455;\n",
              "      --fill-color: #D2E3FC;\n",
              "      --hover-bg-color: #434B5C;\n",
              "      --hover-fill-color: #FFFFFF;\n",
              "      --disabled-bg-color: #3B4455;\n",
              "      --disabled-fill-color: #666;\n",
              "  }\n",
              "\n",
              "  .colab-df-quickchart {\n",
              "    background-color: var(--bg-color);\n",
              "    border: none;\n",
              "    border-radius: 50%;\n",
              "    cursor: pointer;\n",
              "    display: none;\n",
              "    fill: var(--fill-color);\n",
              "    height: 32px;\n",
              "    padding: 0;\n",
              "    width: 32px;\n",
              "  }\n",
              "\n",
              "  .colab-df-quickchart:hover {\n",
              "    background-color: var(--hover-bg-color);\n",
              "    box-shadow: 0 1px 2px rgba(60, 64, 67, 0.3), 0 1px 3px 1px rgba(60, 64, 67, 0.15);\n",
              "    fill: var(--button-hover-fill-color);\n",
              "  }\n",
              "\n",
              "  .colab-df-quickchart-complete:disabled,\n",
              "  .colab-df-quickchart-complete:disabled:hover {\n",
              "    background-color: var(--disabled-bg-color);\n",
              "    fill: var(--disabled-fill-color);\n",
              "    box-shadow: none;\n",
              "  }\n",
              "\n",
              "  .colab-df-spinner {\n",
              "    border: 2px solid var(--fill-color);\n",
              "    border-color: transparent;\n",
              "    border-bottom-color: var(--fill-color);\n",
              "    animation:\n",
              "      spin 1s steps(1) infinite;\n",
              "  }\n",
              "\n",
              "  @keyframes spin {\n",
              "    0% {\n",
              "      border-color: transparent;\n",
              "      border-bottom-color: var(--fill-color);\n",
              "      border-left-color: var(--fill-color);\n",
              "    }\n",
              "    20% {\n",
              "      border-color: transparent;\n",
              "      border-left-color: var(--fill-color);\n",
              "      border-top-color: var(--fill-color);\n",
              "    }\n",
              "    30% {\n",
              "      border-color: transparent;\n",
              "      border-left-color: var(--fill-color);\n",
              "      border-top-color: var(--fill-color);\n",
              "      border-right-color: var(--fill-color);\n",
              "    }\n",
              "    40% {\n",
              "      border-color: transparent;\n",
              "      border-right-color: var(--fill-color);\n",
              "      border-top-color: var(--fill-color);\n",
              "    }\n",
              "    60% {\n",
              "      border-color: transparent;\n",
              "      border-right-color: var(--fill-color);\n",
              "    }\n",
              "    80% {\n",
              "      border-color: transparent;\n",
              "      border-right-color: var(--fill-color);\n",
              "      border-bottom-color: var(--fill-color);\n",
              "    }\n",
              "    90% {\n",
              "      border-color: transparent;\n",
              "      border-bottom-color: var(--fill-color);\n",
              "    }\n",
              "  }\n",
              "</style>\n",
              "\n",
              "      <script>\n",
              "        async function quickchart(key) {\n",
              "          const quickchartButtonEl =\n",
              "            document.querySelector('#' + key + ' button');\n",
              "          quickchartButtonEl.disabled = true;  // To prevent multiple clicks.\n",
              "          quickchartButtonEl.classList.add('colab-df-spinner');\n",
              "          try {\n",
              "            const charts = await google.colab.kernel.invokeFunction(\n",
              "                'suggestCharts', [key], {});\n",
              "          } catch (error) {\n",
              "            console.error('Error during call to suggestCharts:', error);\n",
              "          }\n",
              "          quickchartButtonEl.classList.remove('colab-df-spinner');\n",
              "          quickchartButtonEl.classList.add('colab-df-quickchart-complete');\n",
              "        }\n",
              "        (() => {\n",
              "          let quickchartButtonEl =\n",
              "            document.querySelector('#df-25b55755-a210-4bd5-9450-c960b4512983 button');\n",
              "          quickchartButtonEl.style.display =\n",
              "            google.colab.kernel.accessAllowed ? 'block' : 'none';\n",
              "        })();\n",
              "      </script>\n",
              "    </div>\n",
              "\n",
              "  <div id=\"id_6e3ec8aa-81f9-4f45-aa30-b6dddf33a92d\">\n",
              "    <style>\n",
              "      .colab-df-generate {\n",
              "        background-color: #E8F0FE;\n",
              "        border: none;\n",
              "        border-radius: 50%;\n",
              "        cursor: pointer;\n",
              "        display: none;\n",
              "        fill: #1967D2;\n",
              "        height: 32px;\n",
              "        padding: 0 0 0 0;\n",
              "        width: 32px;\n",
              "      }\n",
              "\n",
              "      .colab-df-generate:hover {\n",
              "        background-color: #E2EBFA;\n",
              "        box-shadow: 0px 1px 2px rgba(60, 64, 67, 0.3), 0px 1px 3px 1px rgba(60, 64, 67, 0.15);\n",
              "        fill: #174EA6;\n",
              "      }\n",
              "\n",
              "      [theme=dark] .colab-df-generate {\n",
              "        background-color: #3B4455;\n",
              "        fill: #D2E3FC;\n",
              "      }\n",
              "\n",
              "      [theme=dark] .colab-df-generate:hover {\n",
              "        background-color: #434B5C;\n",
              "        box-shadow: 0px 1px 3px 1px rgba(0, 0, 0, 0.15);\n",
              "        filter: drop-shadow(0px 1px 2px rgba(0, 0, 0, 0.3));\n",
              "        fill: #FFFFFF;\n",
              "      }\n",
              "    </style>\n",
              "    <button class=\"colab-df-generate\" onclick=\"generateWithVariable('df')\"\n",
              "            title=\"Generate code using this dataframe.\"\n",
              "            style=\"display:none;\">\n",
              "\n",
              "  <svg xmlns=\"http://www.w3.org/2000/svg\" height=\"24px\"viewBox=\"0 0 24 24\"\n",
              "       width=\"24px\">\n",
              "    <path d=\"M7,19H8.4L18.45,9,17,7.55,7,17.6ZM5,21V16.75L18.45,3.32a2,2,0,0,1,2.83,0l1.4,1.43a1.91,1.91,0,0,1,.58,1.4,1.91,1.91,0,0,1-.58,1.4L9.25,21ZM18.45,9,17,7.55Zm-12,3A5.31,5.31,0,0,0,4.9,8.1,5.31,5.31,0,0,0,1,6.5,5.31,5.31,0,0,0,4.9,4.9,5.31,5.31,0,0,0,6.5,1,5.31,5.31,0,0,0,8.1,4.9,5.31,5.31,0,0,0,12,6.5,5.46,5.46,0,0,0,6.5,12Z\"/>\n",
              "  </svg>\n",
              "    </button>\n",
              "    <script>\n",
              "      (() => {\n",
              "      const buttonEl =\n",
              "        document.querySelector('#id_6e3ec8aa-81f9-4f45-aa30-b6dddf33a92d button.colab-df-generate');\n",
              "      buttonEl.style.display =\n",
              "        google.colab.kernel.accessAllowed ? 'block' : 'none';\n",
              "\n",
              "      buttonEl.onclick = () => {\n",
              "        google.colab.notebook.generateWithVariable('df');\n",
              "      }\n",
              "      })();\n",
              "    </script>\n",
              "  </div>\n",
              "\n",
              "    </div>\n",
              "  </div>\n"
            ],
            "text/plain": [
              "           a         b         c         d         e          f    g\n",
              "0   2.674113  2.413361  1.809839  1.974331  1.360968  10.232612  GT8\n",
              "1   2.338562  1.451182  1.009174  1.914384  1.424334   8.137635  GT8\n",
              "2   1.565035  2.660957  2.592527  2.485902  1.271908  10.576330  GT8\n",
              "3   2.603050  1.388779  2.859133  2.660209  1.908215  11.419386  GT8\n",
              "4   1.456739  1.085923  2.524989  2.254317  1.499970   8.821938  GT8\n",
              "5   2.909970  2.767324  1.445160  2.601454  2.597317  12.321224  GT8\n",
              "6   1.822224  2.695558  1.614636  2.147846  1.930868  10.211132  GT8\n",
              "7   2.520829  1.512461  2.486186  1.650861  2.052348  10.222685  GT8\n",
              "8   2.381744  1.830848  2.971592  1.407289  1.741272  10.332744  GT8\n",
              "9   1.431982  2.524324  1.271289  1.389148  1.086073   7.702816  LT8\n",
              "10  1.654467  1.400361  2.502058  2.325348  1.687978   9.570212  GT8\n",
              "11  1.238720  1.733894  1.934832  1.788088  2.592664   9.288198  GT8\n",
              "12  1.782092  2.766990  2.696298  1.973932  2.661972  11.881284  GT8\n",
              "13  2.484856  2.782593  1.655657  1.624962  2.806082  11.354151  GT8\n",
              "14  1.010892  1.985039  1.467072  1.566219  2.255023   8.284245  GT8\n",
              "15  2.542368  1.526789  2.105805  1.000971  2.904008  10.079940  GT8\n",
              "16  1.569332  1.782034  1.585060  1.507169  2.789406   9.233002  GT8\n",
              "17  1.891377  2.968758  1.052837  2.565117  2.521042  10.999130  GT8\n",
              "18  2.665932  2.141051  1.743421  2.080763  1.472294  10.103460  GT8\n",
              "19  2.404926  2.106528  1.186671  2.860149  1.235011   9.793285  GT8"
            ]
          },
          "execution_count": 3,
          "metadata": {},
          "output_type": "execute_result"
        }
      ],
      "source": [
        "df['f'] = df['a'] + df['b'] + df['c'] + df['d'] + df['e']\n",
        "df['g'] = np.where(df['f'] < 8, 'LT8', 'GT8')\n",
        "df"
      ]
    },
    {
      "cell_type": "code",
      "execution_count": 4,
      "metadata": {
        "colab": {
          "base_uri": "https://localhost:8080/"
        },
        "id": "99d8ee8b",
        "outputId": "f0eba50c-a9f4-4f51-ab9c-14971fe35845"
      },
      "outputs": [
        {
          "name": "stdout",
          "output_type": "stream",
          "text": [
            "Number of rows where 'g' is 'LT8': 1\n"
          ]
        }
      ],
      "source": [
        "total_values = df['g'].value_counts()\n",
        "lt8_value = total_values.get('LT8', 0)\n",
        "print(f\"Number of rows where 'g' is 'LT8': {lt8_value}\")"
      ]
    },
    {
      "cell_type": "code",
      "execution_count": 5,
      "metadata": {
        "colab": {
          "base_uri": "https://localhost:8080/"
        },
        "id": "3dcf0XSq6LRD",
        "outputId": "1d43e83f-dc2b-45ea-dcf8-8d9feb37ab75"
      },
      "outputs": [
        {
          "name": "stdout",
          "output_type": "stream",
          "text": [
            "Standard deviation of 'f' for rows where 'g' is 'LT8': nan\n",
            "Standard deviation of 'f' for rows where 'g' is 'GT8': 1.132189464216626\n"
          ]
        }
      ],
      "source": [
        "std_dev_lt8 = df[df['g'] == 'LT8']['f'].std()\n",
        "print(f\"Standard deviation of 'f' for rows where 'g' is 'LT8': {std_dev_lt8}\")\n",
        "\n",
        "std_dev_gt8 = df[df['g'] == 'GT8']['f'].std()\n",
        "print(f\"Standard deviation of 'f' for rows where 'g' is 'GT8': {std_dev_gt8}\")"
      ]
    },
    {
      "cell_type": "markdown",
      "metadata": {
        "id": "rOBWDpRY7gB3"
      },
      "source": [
        "12. Write a small piece of code to explain broadcasting in numpy.\n",
        "\n"
      ]
    },
    {
      "cell_type": "code",
      "execution_count": 7,
      "metadata": {
        "colab": {
          "base_uri": "https://localhost:8080/"
        },
        "id": "KY5lbn6qZ8jO",
        "outputId": "90dbb4cd-36f1-4b50-915f-c68b0f746c25"
      },
      "outputs": [
        {
          "name": "stdout",
          "output_type": "stream",
          "text": [
            "Example 1 (Scalar and array):\n",
            " [2 4 6]\n",
            "\n",
            "Example 2 (Arrays of different shapes):\n",
            " [[11 22 33]\n",
            " [14 25 36]]\n"
          ]
        }
      ],
      "source": [
        "a = np.array([1, 2, 3])\n",
        "b = 2\n",
        "result1 = a * b\n",
        "print(\"Example 1 (Scalar and array):\\n\", result1)\n",
        "\n",
        "c = np.array([[1, 2, 3], [4, 5, 6]])\n",
        "d = np.array([10, 20, 30])\n",
        "result2 = c + d\n",
        "print(\"\\nExample 2 (Arrays of different shapes):\\n\", result2)"
      ]
    },
    {
      "cell_type": "markdown",
      "metadata": {
        "id": "RaLb70Ob67S7"
      },
      "source": [
        "13. Write a function to compute the argmin of a numpy array. The function should take a numpy array as input and return the index of the minimum element. You can use the np.argmin function to verify your solution."
      ]
    },
    {
      "cell_type": "code",
      "execution_count": 6,
      "metadata": {
        "id": "vEnTZ5tT6ggZ"
      },
      "outputs": [],
      "source": [
        "def argmin(num):\n",
        "  min = num[0]\n",
        "\n",
        "  for i in range(len(num)):\n",
        "    if min > num[i]:\n",
        "      min = num[i]\n",
        "\n",
        "  index = np.where(num == min)\n",
        "  index = index[0][0]\n",
        "  return index"
      ]
    },
    {
      "cell_type": "code",
      "execution_count": 7,
      "metadata": {
        "colab": {
          "base_uri": "https://localhost:8080/"
        },
        "id": "HXe3b_9Q7SsR",
        "outputId": "4c78f1ac-5cc6-48d0-f5bf-af279d791fbf"
      },
      "outputs": [
        {
          "name": "stdout",
          "output_type": "stream",
          "text": [
            "Minimum value is at index : 3\n"
          ]
        }
      ],
      "source": [
        "num = np.array([4,3,5,1,7,8,3,5])\n",
        "print(f\"Minimum value is at index : {argmin(num)}\")"
      ]
    },
    {
      "cell_type": "code",
      "execution_count": 8,
      "metadata": {
        "colab": {
          "base_uri": "https://localhost:8080/"
        },
        "id": "sK2u9-yU7kTj",
        "outputId": "cb70b453-0903-43d4-94f0-3787bed94ffb"
      },
      "outputs": [
        {
          "name": "stdout",
          "output_type": "stream",
          "text": [
            "Verification : 3\n"
          ]
        }
      ],
      "source": [
        "print(f\"Verification : {np.argmin(num)}\")"
      ]
    },
    {
      "cell_type": "code",
      "execution_count": 8,
      "metadata": {
        "id": "hiSscTXZ76X9"
      },
      "outputs": [],
      "source": []
    }
  ],
  "metadata": {
    "colab": {
      "provenance": []
    },
    "kernelspec": {
      "display_name": "Python 3",
      "name": "python3"
    },
    "language_info": {
      "name": "python"
    }
  },
  "nbformat": 4,
  "nbformat_minor": 0
}
