{
 "cells": [
  {
   "cell_type": "markdown",
   "metadata": {
    "id": "kEgWghYF5um6"
   },
   "source": [
    "\n",
    "1. How many multiplications and additions do you need to perform a matrix multiplication between a (n, k) and (k, m) matrix? Explain.\n",
    "\n",
    "  Answer:\n",
    "  Multiplication of m1 = [[a,b,c],[d,e,f],[g,h,i]] and m2 = [[j,k,l],[m,n,o],[p,q,r]]\n",
    "\n",
    "  ans = m1 * m2\n",
    "\n",
    "  ans[0][0] = a*j + b*k + c*l\n",
    "\n",
    "  ans[0][1] = a*m + b*n + c*o\n",
    "\n",
    "  ans[0][2] = a*p + b*q + c*r\n",
    "\n",
    "  Thus for calculating values of 1 row of 2 3 \\* 3 matrixes requires 9 multiplications and 6 additions\n",
    "  Thus total = 27 multplications and 18 additions\n",
    "\n",
    "  Multiplications: n * m * k\n",
    "  Additions : n * m * (k-1)\n"
   ]
  },
  {
   "cell_type": "markdown",
   "metadata": {
    "id": "fi9hCkPk5v1p"
   },
   "source": [
    "2. Write Python code to multiply the above two matrices. Solve using list of lists and then use numpy. Compare the timing of both solutions. Which one is faster? Why?"
   ]
  },
  {
   "cell_type": "code",
   "execution_count": 3,
   "metadata": {
    "id": "hq5BZ26uV2Pz"
   },
   "outputs": [],
   "source": [
    "def mul(m1,m2):\n",
    "  if len(m1[0]) != len(m2):\n",
    "        print(\"Number of columns in the first matrix must equal the number of rows in the second matrix.\")\n",
    "\n",
    "  result = [[0 for _ in range(len(m2[0]))] for _ in range(len(m1))]\n",
    "\n",
    "  for i in range(len(m1)):\n",
    "      for j in range(len(m2[0])):\n",
    "          for k in range(len(m2)):\n",
    "              result[i][j] += m1[i][k] * m2[k][j]\n",
    "  return result"
   ]
  },
  {
   "cell_type": "code",
   "execution_count": 4,
   "metadata": {
    "colab": {
     "base_uri": "https://localhost:8080/"
    },
    "id": "845707a6",
    "outputId": "51a95ada-08a3-402a-d5f8-898fd1074539"
   },
   "outputs": [
    {
     "name": "stdout",
     "output_type": "stream",
     "text": [
      "\n",
      "Result using List:\n",
      "[[58, 64], [139, 154]]\n",
      "Time taken (List): 0.000000 seconds\n",
      "\n",
      "Result using NumPy:\n",
      "[[ 58  64]\n",
      " [139 154]]\n",
      "Time taken (NumPy): 0.000000 seconds\n",
      "\n",
      "NumPy is faster than list of lists by: 0.000000 seconds \n",
      " Because Operations on lists involves:\n",
      "\n",
      "Type checking , Pointer dereferencing , Dynamic memory management while NumPy avoids much of this overhead by knowing the array structure in advance.\n"
     ]
    }
   ],
   "source": [
    "import numpy as np\n",
    "import time\n",
    "\n",
    "matrix1 = [[1, 2, 3], [4, 5, 6]]\n",
    "matrix2 = [[7, 8], [9, 10], [11, 12]]\n",
    "\n",
    "start_time = time.time()\n",
    "result_lt = mul(matrix1, matrix2)\n",
    "end_time = time.time()\n",
    "list_time = end_time - start_time\n",
    "\n",
    "print(\"\\nResult using List:\")\n",
    "print(result_lt)\n",
    "print(f\"Time taken (List): {list_time:.6f} seconds\")\n",
    "\n",
    "matrix1_np = np.array([[1, 2, 3], [4, 5, 6]])\n",
    "matrix2_np = np.array([[7, 8], [9, 10], [11, 12]])\n",
    "\n",
    "start_time = time.time()\n",
    "result_np = np.dot(matrix1_np, matrix2_np)\n",
    "end_time = time.time()\n",
    "numpy_time = end_time - start_time\n",
    "\n",
    "print(\"\\nResult using NumPy:\")\n",
    "print(result_np)\n",
    "print(f\"Time taken (NumPy): {numpy_time:.6f} seconds\")\n",
    "\n",
    "print(f\"\\nNumPy is faster than list of lists by: {list_time - numpy_time:.6f} seconds \\n Because Operations on lists involves:\")\n",
    "print(f\"\\nType checking , Pointer dereferencing , Dynamic memory management while NumPy avoids much of this overhead by knowing the array structure in advance.\")"
   ]
  },
  {
   "cell_type": "markdown",
   "metadata": {
    "id": "0L4kYudS5wRN"
   },
   "source": [
    "3. Finding the highest element in a list requires one pass of the array. Finding the second highest element requires 2 passes of the array. Using this method, what is the time complexity of finding the median of the array? Can you suggest a better method? Can you implement both these methods in Python and compare against numpy.median routine in terms of time?\n"
   ]
  },
  {
   "cell_type": "code",
   "execution_count": 5,
   "metadata": {
    "colab": {
     "base_uri": "https://localhost:8080/"
    },
    "id": "3RjwgAXVf7m4",
    "outputId": "10f85037-fc1a-4bf2-99f9-96d5ee4ef25d"
   },
   "outputs": [
    {
     "name": "stdout",
     "output_type": "stream",
     "text": [
      "9\n"
     ]
    }
   ],
   "source": [
    "# Finding Highest element in list\n",
    "ls = [2,1,4,6,8,2,9,3]\n",
    "max = ls[0]\n",
    "for i in range(len(ls)):\n",
    "  if max < ls[i]:\n",
    "    max = ls[i]\n",
    "print(max)"
   ]
  },
  {
   "cell_type": "code",
   "execution_count": 6,
   "metadata": {
    "colab": {
     "base_uri": "https://localhost:8080/"
    },
    "id": "sF5g-zpigMb2",
    "outputId": "59a52a7b-9064-4ad6-cfe2-9e85ea981f28"
   },
   "outputs": [
    {
     "name": "stdout",
     "output_type": "stream",
     "text": [
      "8\n"
     ]
    }
   ],
   "source": [
    "# Finding second highest element\n",
    "for i in range(len(ls)):\n",
    "  if max == ls[i]:\n",
    "    ls[i] = 0\n",
    "max = ls[0]\n",
    "for i in range(len(ls)):\n",
    "  if max < ls[i]:\n",
    "    max = ls[i]\n",
    "print(max)"
   ]
  },
  {
   "cell_type": "code",
   "execution_count": 7,
   "metadata": {
    "colab": {
     "base_uri": "https://localhost:8080/"
    },
    "id": "5OZesERKgycm",
    "outputId": "1d8d43d7-0c6a-4588-db56-1d7ad6cffd41"
   },
   "outputs": [
    {
     "name": "stdout",
     "output_type": "stream",
     "text": [
      "Value of K is : 4.0\n",
      "3\n",
      "[2, 1, 0, 0, 0, 2, 0, 3]\n",
      "Time taken : 0.0020165443420410156\n"
     ]
    }
   ],
   "source": [
    "# Finding median using K passes\n",
    "import time\n",
    "\n",
    "start = time.time()\n",
    "ls = [2,1,4,6,8,2,9,3]\n",
    "k = len(ls)/2\n",
    "print(\"Value of K is :\",k)\n",
    "\n",
    "max = ls[0]\n",
    "for i in range(len(ls)):\n",
    "  if max < ls[i]:\n",
    "    max = ls[i]\n",
    "\n",
    "while k>0:\n",
    "  for i in range(len(ls)):\n",
    "    if ls[i] == max:\n",
    "      ls[i] = 0\n",
    "  max = ls[0]\n",
    "  for i in range(len(ls)):\n",
    "    if max < ls[i]:\n",
    "      max = ls[i]\n",
    "  k-=1\n",
    "\n",
    "max = ls[0]\n",
    "for i in range(len(ls)):\n",
    "  if max < ls[i]:\n",
    "    max = ls[i]\n",
    "print(max)\n",
    "print(ls)\n",
    "end = time.time()\n",
    "kpass_time = end-start\n",
    "print(f\"Time taken : {end-start}\")\n",
    "\n",
    "\n"
   ]
  },
  {
   "cell_type": "code",
   "execution_count": 8,
   "metadata": {
    "colab": {
     "base_uri": "https://localhost:8080/"
    },
    "id": "_DNI0UjXiI66",
    "outputId": "6e4cc5b2-63fb-4b23-cc25-ce6ff9f2edf0"
   },
   "outputs": [
    {
     "name": "stdout",
     "output_type": "stream",
     "text": [
      "[1, 2, 2, 3, 4, 6, 8, 9]\n",
      "4\n",
      "Time taken : 0.002992391586303711\n"
     ]
    }
   ],
   "source": [
    "# Better approack\n",
    "start = time.time()\n",
    "ls = [2,1,4,6,8,2,9,3]\n",
    "ls.sort()\n",
    "print(ls)\n",
    "\n",
    "size = len(ls)\n",
    "if size%2 == 0:\n",
    "  median = ls[size//2]\n",
    "  print(median)\n",
    "else:\n",
    "  median = (ls[size//2] + ls[size//2 - 1])/2\n",
    "  print(median)\n",
    "end = time.time()\n",
    "my_time = end-start\n",
    "print(f\"Time taken : {end-start}\")"
   ]
  },
  {
   "cell_type": "code",
   "execution_count": 9,
   "metadata": {
    "colab": {
     "base_uri": "https://localhost:8080/"
    },
    "id": "gVLls6a_kXGr",
    "outputId": "f459d901-136f-4583-d025-a0ef17a16fdf"
   },
   "outputs": [
    {
     "name": "stdout",
     "output_type": "stream",
     "text": [
      "Time taken : 0.005011796951293945\n"
     ]
    }
   ],
   "source": [
    "start = time.time()\n",
    "arr = np.array([2,1,4,6,8,2,9,3])\n",
    "np.median(arr)\n",
    "end = time.time()\n",
    "numpy_time = end-start\n",
    "print(f\"Time taken : {end-start}\")"
   ]
  },
  {
   "cell_type": "markdown",
   "metadata": {
    "id": "6lMjeE1Dkmdb"
   },
   "source": [
    "**Thus np.median performs well. My approach takes more time to sort the list and in k pass approach we iterate the list unnecessary.**\n"
   ]
  },
  {
   "cell_type": "markdown",
   "metadata": {
    "id": "yFmRyb0r6NEM"
   },
   "source": [
    "4. What is the gradient of the following function with respect to x and y?\n",
    "\n",
    "  Gradient of f(x,y) = (partial derivative w.r.t x, partial derivative w.r.t y)\n",
    "\n",
    "  partial derivative w.r.t x = 2xy + y^3cos(x)\n",
    "\n",
    "  partial derivative w.r.t y = x^2 + 3y^2sin(x)\n",
    "\n",
    "  Gradient of f(x,y) = (2xy + y^3cos(x), x^2 + 3y^2sin(x))"
   ]
  },
  {
   "cell_type": "markdown",
   "metadata": {
    "id": "-EWxwMMO6RIu"
   },
   "source": [
    "5. Use JAX to confirm the gradient evaluated by your method matches the analytical solution corresponding to a few random values of x and y"
   ]
  },
  {
   "cell_type": "code",
   "execution_count": 10,
   "metadata": {
    "colab": {
     "base_uri": "https://localhost:8080/"
    },
    "id": "vgWohB11oBB1",
    "outputId": "57726eb4-41b4-437c-92f2-b07553ec86f7"
   },
   "outputs": [
    {
     "ename": "ModuleNotFoundError",
     "evalue": "No module named 'jax'",
     "output_type": "error",
     "traceback": [
      "\u001b[1;31m---------------------------------------------------------------------------\u001b[0m",
      "\u001b[1;31mModuleNotFoundError\u001b[0m                       Traceback (most recent call last)",
      "Cell \u001b[1;32mIn[10], line 1\u001b[0m\n\u001b[1;32m----> 1\u001b[0m \u001b[38;5;28;01mimport\u001b[39;00m \u001b[38;5;21;01mjax\u001b[39;00m\n\u001b[0;32m      2\u001b[0m \u001b[38;5;28;01mimport\u001b[39;00m \u001b[38;5;21;01mjax\u001b[39;00m\u001b[38;5;21;01m.\u001b[39;00m\u001b[38;5;21;01mnumpy\u001b[39;00m \u001b[38;5;28;01mas\u001b[39;00m \u001b[38;5;21;01mjnp\u001b[39;00m\n\u001b[0;32m      4\u001b[0m \u001b[38;5;28;01mdef\u001b[39;00m \u001b[38;5;21mf\u001b[39m(xy):\n",
      "\u001b[1;31mModuleNotFoundError\u001b[0m: No module named 'jax'"
     ]
    }
   ],
   "source": [
    "import jax\n",
    "import jax.numpy as jnp\n",
    "\n",
    "def f(xy):\n",
    "    x, y = xy\n",
    "    return x**2 * y + y**3 * jnp.sin(x)\n",
    "\n",
    "grad_f = jax.grad(f)\n",
    "\n",
    "def analytical_grad(xy):\n",
    "    x, y = xy\n",
    "    df_dx = 2 * x * y + y**3 * jnp.cos(x)\n",
    "    df_dy = x**2 + 3 * y**2 * jnp.sin(x)\n",
    "    return jnp.array([df_dx, df_dy])\n",
    "\n",
    "x = 1.0\n",
    "y = 1.5\n",
    "print(\"Comparing gradients at random points:\\n\")\n",
    "auto_grad = grad_f((x, y))\n",
    "manual_grad = analytical_grad((x, y))\n",
    "print(f\"(x, y) = ({x:.3f}, {y:.3f})\")\n",
    "print(f\"JAX grad     = {auto_grad}\")\n",
    "print(f\"Manual grad  = {manual_grad}\")"
   ]
  },
  {
   "cell_type": "markdown",
   "metadata": {
    "id": "9j0ZpDuc6RYC"
   },
   "source": [
    "6. Use sympy to confirm that you obtain the same gradient analytically."
   ]
  },
  {
   "cell_type": "code",
   "execution_count": null,
   "metadata": {
    "colab": {
     "base_uri": "https://localhost:8080/"
    },
    "id": "iIh8DmUUo6Ks",
    "outputId": "86a7177b-4614-4ac0-f9c1-ce148eaa767b"
   },
   "outputs": [],
   "source": [
    "import sympy as sp\n",
    "\n",
    "x, y = sp.symbols('x y')\n",
    "\n",
    "f = x**2 * y + y**3 * sp.sin(x)\n",
    "\n",
    "df_dx = sp.diff(f, x)\n",
    "df_dy = sp.diff(f, y)\n",
    "\n",
    "gradient = [df_dx, df_dy]\n",
    "\n",
    "print(\"Symbolic Gradient:\")\n",
    "print(\"∂f/∂x =\", df_dx)\n",
    "print(\"∂f/∂y =\", df_dy)"
   ]
  },
  {
   "cell_type": "markdown",
   "metadata": {
    "id": "yiV638I86Rwk"
   },
   "source": [
    "7. Create a Python nested dictionary to represent hierarchical information. We want to store record of students and their marks"
   ]
  },
  {
   "cell_type": "code",
   "execution_count": null,
   "metadata": {
    "colab": {
     "base_uri": "https://localhost:8080/"
    },
    "id": "LYxRezdNbmV4",
    "outputId": "57c148ac-dedb-4037-f401-1b4cde0a0137"
   },
   "outputs": [],
   "source": [
    "dict = { 2022: { 'Branch 1' : { 'Roll No' : 1, 'Name' : 'N' , 'Marks' : { 'Maths' : 100, 'English' : 70}\n",
    "\n",
    "} ,\n",
    "                 'Branch 2' : { 'Roll No' : 2, 'Name' : 'M' , 'Marks' : { 'Maths' : 80, 'English' : 60}\n",
    "\n",
    "                 }\n",
    "\n",
    "},\n",
    "\n",
    "         2023: { 'Branch 1' : { 'Roll No' : 3, 'Name' : 'I' , 'Marks' : { 'Maths' : 100, 'English' : 50}\n",
    "\n",
    "} ,\n",
    "                 'Branch 2' : { 'Roll No' : 4, 'Name' : 'D' , 'Marks' : { 'Maths' : 70, 'English' : 60}\n",
    "\n",
    "                 }\n",
    "\n",
    "         }\n",
    "}\n",
    "\n",
    "print(dict)"
   ]
  },
  {
   "cell_type": "markdown",
   "metadata": {
    "id": "50UwP8HZ7Hp6"
   },
   "source": [
    "8. Store the same information using Python classes. We have an overall database which is a list of year objects. Each year contains a list of branches. Each branch contains a list of students. Each student has some properties like name, roll number and has marks in some subjects.\n",
    "\n"
   ]
  },
  {
   "cell_type": "code",
   "execution_count": null,
   "metadata": {
    "id": "guTFEY77fYGO"
   },
   "outputs": [],
   "source": [
    "class Student:\n",
    "    def __init__(self, roll_no, name, marks):\n",
    "        self.roll_no = roll_no\n",
    "        self.name = name\n",
    "        self.marks = marks\n",
    "\n",
    "class Branch:\n",
    "    def __init__(self, branch_name, students):\n",
    "        self.branch_name = branch_name\n",
    "        self.students = students\n",
    "\n",
    "class Year:\n",
    "    def __init__(self, year, branches):\n",
    "        self.year = year\n",
    "        self.branches = branches\n",
    "\n",
    "student1 = Student(1, 'N', {'Maths': 100, 'English': 70})\n",
    "student2 = Student(2, 'M', {'Maths': 80, 'English': 60})\n",
    "\n",
    "branch1 = Branch('Branch 1', [student1, student2])\n",
    "branch2 = Branch('Branch 2', [student1, student2])\n",
    "\n",
    "year = Year(2022, [branch1, branch2])\n"
   ]
  },
  {
   "cell_type": "markdown",
   "metadata": {
    "id": "EdCvqNn57JH4"
   },
   "source": [
    "9. Using matplotlib plot the following functions on the domain: x = 0.5 to 100.0 in steps of 0.5."
   ]
  },
  {
   "cell_type": "code",
   "execution_count": null,
   "metadata": {
    "colab": {
     "base_uri": "https://localhost:8080/",
     "height": 449
    },
    "id": "0PijAerl8zmg",
    "outputId": "7cda45b8-75cc-4248-d6e7-199a31461d55"
   },
   "outputs": [],
   "source": [
    "import matplotlib.pyplot as plt\n",
    "import numpy as np\n",
    "x = np.arange(0.5, 100.0, 0.5)\n",
    "plt.plot(x, x, label='y = x')\n",
    "plt.legend()\n",
    "plt.xlabel('x')\n",
    "plt.ylabel('y')\n",
    "plt.show()"
   ]
  },
  {
   "cell_type": "code",
   "execution_count": null,
   "metadata": {
    "colab": {
     "base_uri": "https://localhost:8080/",
     "height": 449
    },
    "id": "JNcNVcjtaYlJ",
    "outputId": "2cccee2a-0e65-4098-ba8f-39599de14c47"
   },
   "outputs": [],
   "source": [
    "plt.plot(x, x**2, label='y = x**2')\n",
    "plt.legend()\n",
    "plt.xlabel('x')\n",
    "plt.ylabel('y')\n",
    "plt.show()"
   ]
  },
  {
   "cell_type": "code",
   "execution_count": null,
   "metadata": {
    "colab": {
     "base_uri": "https://localhost:8080/",
     "height": 449
    },
    "id": "UoknN8Rea2sG",
    "outputId": "c1dc1801-c8f7-482b-ea6e-f7b4b6f04f99"
   },
   "outputs": [],
   "source": [
    "y = (x**3)/100\n",
    "plt.plot(x, y , label='y = (x**3)/100')\n",
    "plt.legend()\n",
    "plt.xlabel('x')\n",
    "plt.ylabel('y')\n",
    "plt.show()"
   ]
  },
  {
   "cell_type": "code",
   "execution_count": null,
   "metadata": {
    "colab": {
     "base_uri": "https://localhost:8080/",
     "height": 449
    },
    "id": "lEFMoJdxa35y",
    "outputId": "c929ad9c-0f54-4b55-ccdc-17a689f8e80e"
   },
   "outputs": [],
   "source": [
    "plt.plot(x, np.sin(x), label='y = sin(x)')\n",
    "plt.legend()\n",
    "plt.xlabel('x')\n",
    "plt.ylabel('y')\n",
    "plt.show()"
   ]
  },
  {
   "cell_type": "code",
   "execution_count": null,
   "metadata": {
    "colab": {
     "base_uri": "https://localhost:8080/",
     "height": 450
    },
    "id": "mt9iotWVa39O",
    "outputId": "ae550a84-eb27-4b66-edfd-c233cabb7e04"
   },
   "outputs": [],
   "source": [
    "z = (np.sin(x))/x\n",
    "plt.plot(x, z , label='y = sin(x)/x')\n",
    "plt.legend()\n",
    "plt.xlabel('x')\n",
    "plt.ylabel('y')\n",
    "plt.show()"
   ]
  },
  {
   "cell_type": "code",
   "execution_count": null,
   "metadata": {
    "colab": {
     "base_uri": "https://localhost:8080/",
     "height": 449
    },
    "id": "ZuGxqd_Za4D6",
    "outputId": "8fef47ac-310f-44ec-c1e2-5e9790ca603a"
   },
   "outputs": [],
   "source": [
    "plt.plot(x, np.log(x), label='y = log(x)')\n",
    "plt.legend()\n",
    "plt.xlabel('x')\n",
    "plt.ylabel('y')\n",
    "plt.show()"
   ]
  },
  {
   "cell_type": "code",
   "execution_count": null,
   "metadata": {
    "colab": {
     "base_uri": "https://localhost:8080/",
     "height": 465
    },
    "id": "CcFCAzgna4L7",
    "outputId": "82340827-8867-4555-a8dc-fab083e66fc9"
   },
   "outputs": [],
   "source": [
    "plt.plot(x, np.exp(x), label='y = exp(x)')\n",
    "plt.legend()\n",
    "plt.xlabel('x')\n",
    "plt.ylabel('y')\n",
    "plt.show()"
   ]
  },
  {
   "cell_type": "markdown",
   "metadata": {
    "id": "QnKdQJLj2pX2"
   },
   "source": [
    "10. Using numpy generate a matrix of size 20X5 containing random numbers drawn uniformly from the range of 1 to 2. Using Pandas create a dataframe out of this matrix. Name the columns of the dataframe as “a”, “b”, “c”, “d”, “e”. Find the column with the highest standard deviation. Find the row with the lowest mean."
   ]
  },
  {
   "cell_type": "code",
   "execution_count": null,
   "metadata": {
    "colab": {
     "base_uri": "https://localhost:8080/"
    },
    "id": "KYLKB9hd2kru",
    "outputId": "ff87ecc8-442c-4028-f548-9317cf6ded79"
   },
   "outputs": [],
   "source": [
    "import numpy as np\n",
    "matrix = np.random.uniform(1, 3, size=(20, 5))\n",
    "print(matrix)\n"
   ]
  },
  {
   "cell_type": "code",
   "execution_count": null,
   "metadata": {
    "colab": {
     "base_uri": "https://localhost:8080/"
    },
    "id": "a7000a28",
    "outputId": "1b5b35dd-bd3a-42c9-cb09-4d2f131bf9a6"
   },
   "outputs": [],
   "source": [
    "import pandas as pd\n",
    "\n",
    "df = pd.DataFrame(matrix, columns=['a', 'b', 'c', 'd', 'e'])\n",
    "\n",
    "std_dev = df.std()\n",
    "highest_std_col = std_dev.idxmax()\n",
    "print(f\"Column with the highest standard deviation: {highest_std_col}\")\n",
    "\n",
    "row_means = df.mean(axis=1)\n",
    "lowest_mean_row = row_means.idxmin()\n",
    "print(f\"Row with the lowest mean (index): {lowest_mean_row}\")"
   ]
  },
  {
   "cell_type": "markdown",
   "metadata": {
    "id": "sFoHL2EC4tu9"
   },
   "source": [
    "11. Add a new column to the dataframe called “f” which is the sum of the columns “a”, “b”, “c”, “d”, “e”. Create another column called “g”. The value in the column “g” should be “LT8” if the value in the column “f” is less than 8 and “GT8” otherwise. Find the number of rows in the dataframe where the value in the column “g” is “LT8”. Find the standard deviation of the column “f” for the rows where the value in the column “g” is “LT8” and “GT8” respectively.\n",
    "\n"
   ]
  },
  {
   "cell_type": "code",
   "execution_count": null,
   "metadata": {
    "colab": {
     "base_uri": "https://localhost:8080/",
     "height": 676
    },
    "id": "UgNwANlw4ng7",
    "outputId": "1205bf68-9a57-41a8-e46f-6ffcaf43cc97"
   },
   "outputs": [],
   "source": [
    "df['f'] = df['a'] + df['b'] + df['c'] + df['d'] + df['e']\n",
    "df['g'] = np.where(df['f'] < 8, 'LT8', 'GT8')\n",
    "df"
   ]
  },
  {
   "cell_type": "code",
   "execution_count": null,
   "metadata": {
    "colab": {
     "base_uri": "https://localhost:8080/"
    },
    "id": "99d8ee8b",
    "outputId": "f0eba50c-a9f4-4f51-ab9c-14971fe35845"
   },
   "outputs": [],
   "source": [
    "total_values = df['g'].value_counts()\n",
    "lt8_value = total_values.get('LT8', 0)\n",
    "print(f\"Number of rows where 'g' is 'LT8': {lt8_value}\")"
   ]
  },
  {
   "cell_type": "code",
   "execution_count": null,
   "metadata": {
    "colab": {
     "base_uri": "https://localhost:8080/"
    },
    "id": "3dcf0XSq6LRD",
    "outputId": "1d43e83f-dc2b-45ea-dcf8-8d9feb37ab75"
   },
   "outputs": [],
   "source": [
    "std_dev_lt8 = df[df['g'] == 'LT8']['f'].std()\n",
    "print(f\"Standard deviation of 'f' for rows where 'g' is 'LT8': {std_dev_lt8}\")\n",
    "\n",
    "std_dev_gt8 = df[df['g'] == 'GT8']['f'].std()\n",
    "print(f\"Standard deviation of 'f' for rows where 'g' is 'GT8': {std_dev_gt8}\")"
   ]
  },
  {
   "cell_type": "markdown",
   "metadata": {
    "id": "rOBWDpRY7gB3"
   },
   "source": [
    "12. Write a small piece of code to explain broadcasting in numpy.\n",
    "\n"
   ]
  },
  {
   "cell_type": "code",
   "execution_count": null,
   "metadata": {
    "colab": {
     "base_uri": "https://localhost:8080/"
    },
    "id": "KY5lbn6qZ8jO",
    "outputId": "90dbb4cd-36f1-4b50-915f-c68b0f746c25"
   },
   "outputs": [],
   "source": [
    "a = np.array([1, 2, 3])\n",
    "b = 2\n",
    "result1 = a * b\n",
    "print(\"Example 1 (Scalar and array):\\n\", result1)\n",
    "\n",
    "c = np.array([[1, 2, 3], [4, 5, 6]])\n",
    "d = np.array([10, 20, 30])\n",
    "result2 = c + d\n",
    "print(\"\\nExample 2 (Arrays of different shapes):\\n\", result2)"
   ]
  },
  {
   "cell_type": "markdown",
   "metadata": {
    "id": "RaLb70Ob67S7"
   },
   "source": [
    "13. Write a function to compute the argmin of a numpy array. The function should take a numpy array as input and return the index of the minimum element. You can use the np.argmin function to verify your solution."
   ]
  },
  {
   "cell_type": "code",
   "execution_count": null,
   "metadata": {
    "id": "vEnTZ5tT6ggZ"
   },
   "outputs": [],
   "source": [
    "def argmin(num):\n",
    "  min = num[0]\n",
    "\n",
    "  for i in range(len(num)):\n",
    "    if min > num[i]:\n",
    "      min = num[i]\n",
    "\n",
    "  index = np.where(num == min)\n",
    "  index = index[0][0]\n",
    "  return index"
   ]
  },
  {
   "cell_type": "code",
   "execution_count": null,
   "metadata": {
    "colab": {
     "base_uri": "https://localhost:8080/"
    },
    "id": "HXe3b_9Q7SsR",
    "outputId": "4c78f1ac-5cc6-48d0-f5bf-af279d791fbf"
   },
   "outputs": [],
   "source": [
    "num = np.array([4,3,5,1,7,8,3,5])\n",
    "print(f\"Minimum value is at index : {argmin(num)}\")"
   ]
  },
  {
   "cell_type": "code",
   "execution_count": null,
   "metadata": {
    "colab": {
     "base_uri": "https://localhost:8080/"
    },
    "id": "sK2u9-yU7kTj",
    "outputId": "cb70b453-0903-43d4-94f0-3787bed94ffb"
   },
   "outputs": [],
   "source": [
    "print(f\"Verification : {np.argmin(num)}\")"
   ]
  },
  {
   "cell_type": "code",
   "execution_count": null,
   "metadata": {
    "id": "hiSscTXZ76X9"
   },
   "outputs": [],
   "source": []
  }
 ],
 "metadata": {
  "colab": {
   "provenance": []
  },
  "kernelspec": {
   "display_name": "Python 3 (ipykernel)",
   "language": "python",
   "name": "python3"
  },
  "language_info": {
   "codemirror_mode": {
    "name": "ipython",
    "version": 3
   },
   "file_extension": ".py",
   "mimetype": "text/x-python",
   "name": "python",
   "nbconvert_exporter": "python",
   "pygments_lexer": "ipython3",
   "version": "3.11.4"
  }
 },
 "nbformat": 4,
 "nbformat_minor": 1
}
